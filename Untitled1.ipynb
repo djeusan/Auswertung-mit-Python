{
 "cells": [
  {
   "cell_type": "code",
   "execution_count": 129,
   "metadata": {},
   "outputs": [],
   "source": [
    "import pyodbc as po\n",
    "import pandas as pd\n",
    "import numpy as np\n",
    "import sys\n",
    "from sklearn import preprocessing\n",
    "from sklearn.preprocessing import LabelEncoder\n",
    "import codecs\n",
    " \n",
    "%matplotlib inline\n",
    "#importation de la librairie\n",
    "import matplotlib.pyplot as plt\n",
    "from matplotlib.ticker import StrMethodFormatter"
   ]
  },
  {
   "cell_type": "code",
   "execution_count": 130,
   "metadata": {},
   "outputs": [],
   "source": [
    "conn_string = (r\"Driver={Microsoft Access Driver (*.mdb, *.accdb)};DBQ=C:\\Users\\Djeudchoo\\Downloads\\zone\\Abschlussarbeit.accdb\")\n",
    "conn = po.connect(conn_string)"
   ]
  },
  {
   "cell_type": "code",
   "execution_count": 131,
   "metadata": {},
   "outputs": [
    {
     "name": "stdout",
     "output_type": "stream",
     "text": [
      "Daten aus Chemocompile\n",
      "Diagnosen\n",
      "Labor\n"
     ]
    }
   ],
   "source": [
    "cursor = conn.cursor()\n",
    "\n",
    "for table_info in cursor.tables(tableType='TABLE'):\n",
    "    print(table_info.table_name)"
   ]
  },
  {
   "cell_type": "code",
   "execution_count": 132,
   "metadata": {},
   "outputs": [],
   "source": [
    "SQL_Query = pd.read_sql_query('''SELECT * FROM Labor''', conn)"
   ]
  },
  {
   "cell_type": "code",
   "execution_count": 133,
   "metadata": {},
   "outputs": [
    {
     "data": {
      "text/html": [
       "<div>\n",
       "<style scoped>\n",
       "    .dataframe tbody tr th:only-of-type {\n",
       "        vertical-align: middle;\n",
       "    }\n",
       "\n",
       "    .dataframe tbody tr th {\n",
       "        vertical-align: top;\n",
       "    }\n",
       "\n",
       "    .dataframe thead th {\n",
       "        text-align: right;\n",
       "    }\n",
       "</style>\n",
       "<table border=\"1\" class=\"dataframe\">\n",
       "  <thead>\n",
       "    <tr style=\"text-align: right;\">\n",
       "      <th></th>\n",
       "      <th>ID</th>\n",
       "      <th>doknr</th>\n",
       "      <th>dokvr</th>\n",
       "      <th>patnr</th>\n",
       "      <th>falnr</th>\n",
       "      <th>n2leistid</th>\n",
       "      <th>n2value</th>\n",
       "      <th>n2date</th>\n",
       "      <th>n2time</th>\n",
       "      <th>Protokollnamen</th>\n",
       "      <th>Protokollnummer</th>\n",
       "      <th>alter</th>\n",
       "    </tr>\n",
       "  </thead>\n",
       "  <tbody>\n",
       "    <tr>\n",
       "      <th>0</th>\n",
       "      <td>1</td>\n",
       "      <td>0000000000000010019944256</td>\n",
       "      <td>00</td>\n",
       "      <td>0005000737</td>\n",
       "      <td>0075340477</td>\n",
       "      <td>LAALT</td>\n",
       "      <td>10</td>\n",
       "      <td>20180604</td>\n",
       "      <td>101758</td>\n",
       "      <td>Gemcitabin_KS</td>\n",
       "      <td>0218-KLStg</td>\n",
       "      <td>83</td>\n",
       "    </tr>\n",
       "    <tr>\n",
       "      <th>1</th>\n",
       "      <td>2</td>\n",
       "      <td>0000000000000010019954203</td>\n",
       "      <td>00</td>\n",
       "      <td>0005000737</td>\n",
       "      <td>0075340477</td>\n",
       "      <td>LAALT</td>\n",
       "      <td>11</td>\n",
       "      <td>20180605</td>\n",
       "      <td>120041</td>\n",
       "      <td>Gemcitabin_KS</td>\n",
       "      <td>0218-KLStg</td>\n",
       "      <td>83</td>\n",
       "    </tr>\n",
       "    <tr>\n",
       "      <th>2</th>\n",
       "      <td>3</td>\n",
       "      <td>0000000000000010019960371</td>\n",
       "      <td>00</td>\n",
       "      <td>0005000737</td>\n",
       "      <td>0075340477</td>\n",
       "      <td>LAALT</td>\n",
       "      <td>12</td>\n",
       "      <td>20180606</td>\n",
       "      <td>090436</td>\n",
       "      <td>Gemcitabin_KS</td>\n",
       "      <td>0218-KLStg</td>\n",
       "      <td>83</td>\n",
       "    </tr>\n",
       "    <tr>\n",
       "      <th>3</th>\n",
       "      <td>4</td>\n",
       "      <td>0000000000000010020159113</td>\n",
       "      <td>00</td>\n",
       "      <td>0005000737</td>\n",
       "      <td>0075404297</td>\n",
       "      <td>LAALT</td>\n",
       "      <td>17</td>\n",
       "      <td>20180706</td>\n",
       "      <td>105527</td>\n",
       "      <td>Gemcitabin_KS</td>\n",
       "      <td>0218-KLStg</td>\n",
       "      <td>83</td>\n",
       "    </tr>\n",
       "    <tr>\n",
       "      <th>4</th>\n",
       "      <td>5</td>\n",
       "      <td>0000000000000010020401928</td>\n",
       "      <td>00</td>\n",
       "      <td>0005000737</td>\n",
       "      <td>0075469116</td>\n",
       "      <td>LAALT</td>\n",
       "      <td>20</td>\n",
       "      <td>20180814</td>\n",
       "      <td>134102</td>\n",
       "      <td>Carboplatin-Gemcitabine</td>\n",
       "      <td>0019-KLStg</td>\n",
       "      <td>83</td>\n",
       "    </tr>\n",
       "  </tbody>\n",
       "</table>\n",
       "</div>"
      ],
      "text/plain": [
       "   ID                      doknr dokvr       patnr       falnr n2leistid  \\\n",
       "0   1  0000000000000010019944256    00  0005000737  0075340477     LAALT   \n",
       "1   2  0000000000000010019954203    00  0005000737  0075340477     LAALT   \n",
       "2   3  0000000000000010019960371    00  0005000737  0075340477     LAALT   \n",
       "3   4  0000000000000010020159113    00  0005000737  0075404297     LAALT   \n",
       "4   5  0000000000000010020401928    00  0005000737  0075469116     LAALT   \n",
       "\n",
       "  n2value    n2date  n2time           Protokollnamen Protokollnummer alter  \n",
       "0      10  20180604  101758            Gemcitabin_KS      0218-KLStg    83  \n",
       "1      11  20180605  120041            Gemcitabin_KS      0218-KLStg    83  \n",
       "2      12  20180606  090436            Gemcitabin_KS      0218-KLStg    83  \n",
       "3      17  20180706  105527            Gemcitabin_KS      0218-KLStg    83  \n",
       "4      20  20180814  134102  Carboplatin-Gemcitabine      0019-KLStg    83  "
      ]
     },
     "execution_count": 133,
     "metadata": {},
     "output_type": "execute_result"
    }
   ],
   "source": [
    "df = pd.DataFrame(SQL_Query)\n",
    "# df.set_index('ID')\n",
    "df.head()"
   ]
  },
  {
   "cell_type": "code",
   "execution_count": 151,
   "metadata": {},
   "outputs": [
    {
     "data": {
      "text/plain": [
       "(1183001, 12)"
      ]
     },
     "execution_count": 151,
     "metadata": {},
     "output_type": "execute_result"
    }
   ],
   "source": [
    "df.shape"
   ]
  },
  {
   "cell_type": "code",
   "execution_count": 152,
   "metadata": {},
   "outputs": [],
   "source": [
    "df.to_csv(\"Labordaten1.csv\", index=False)"
   ]
  },
  {
   "cell_type": "code",
   "execution_count": 153,
   "metadata": {
    "scrolled": false
   },
   "outputs": [
    {
     "name": "stderr",
     "output_type": "stream",
     "text": [
      "C:\\ProgramData\\Anaconda3\\lib\\site-packages\\IPython\\core\\interactiveshell.py:3063: DtypeWarning: Columns (7) have mixed types.Specify dtype option on import or set low_memory=False.\n",
      "  interactivity=interactivity, compiler=compiler, result=result)\n"
     ]
    },
    {
     "data": {
      "text/html": [
       "<div>\n",
       "<style scoped>\n",
       "    .dataframe tbody tr th:only-of-type {\n",
       "        vertical-align: middle;\n",
       "    }\n",
       "\n",
       "    .dataframe tbody tr th {\n",
       "        vertical-align: top;\n",
       "    }\n",
       "\n",
       "    .dataframe thead th {\n",
       "        text-align: right;\n",
       "    }\n",
       "</style>\n",
       "<table border=\"1\" class=\"dataframe\">\n",
       "  <thead>\n",
       "    <tr style=\"text-align: right;\">\n",
       "      <th></th>\n",
       "      <th>ID</th>\n",
       "      <th>doknr</th>\n",
       "      <th>dokvr</th>\n",
       "      <th>patnr</th>\n",
       "      <th>falnr</th>\n",
       "      <th>n2leistid</th>\n",
       "      <th>n2value</th>\n",
       "      <th>n2date</th>\n",
       "      <th>n2time</th>\n",
       "      <th>Protokollnamen</th>\n",
       "      <th>Protokollnummer</th>\n",
       "      <th>alter</th>\n",
       "    </tr>\n",
       "  </thead>\n",
       "  <tbody>\n",
       "    <tr>\n",
       "      <th>0</th>\n",
       "      <td>1</td>\n",
       "      <td>10019944256</td>\n",
       "      <td>0</td>\n",
       "      <td>5000737</td>\n",
       "      <td>75340477</td>\n",
       "      <td>LAALT</td>\n",
       "      <td>10</td>\n",
       "      <td>20180604</td>\n",
       "      <td>101758</td>\n",
       "      <td>Gemcitabin_KS</td>\n",
       "      <td>0218-KLStg</td>\n",
       "      <td>83</td>\n",
       "    </tr>\n",
       "    <tr>\n",
       "      <th>1</th>\n",
       "      <td>2</td>\n",
       "      <td>10019954203</td>\n",
       "      <td>0</td>\n",
       "      <td>5000737</td>\n",
       "      <td>75340477</td>\n",
       "      <td>LAALT</td>\n",
       "      <td>11</td>\n",
       "      <td>20180605</td>\n",
       "      <td>120041</td>\n",
       "      <td>Gemcitabin_KS</td>\n",
       "      <td>0218-KLStg</td>\n",
       "      <td>83</td>\n",
       "    </tr>\n",
       "    <tr>\n",
       "      <th>2</th>\n",
       "      <td>3</td>\n",
       "      <td>10019960371</td>\n",
       "      <td>0</td>\n",
       "      <td>5000737</td>\n",
       "      <td>75340477</td>\n",
       "      <td>LAALT</td>\n",
       "      <td>12</td>\n",
       "      <td>20180606</td>\n",
       "      <td>90436</td>\n",
       "      <td>Gemcitabin_KS</td>\n",
       "      <td>0218-KLStg</td>\n",
       "      <td>83</td>\n",
       "    </tr>\n",
       "    <tr>\n",
       "      <th>3</th>\n",
       "      <td>4</td>\n",
       "      <td>10020159113</td>\n",
       "      <td>0</td>\n",
       "      <td>5000737</td>\n",
       "      <td>75404297</td>\n",
       "      <td>LAALT</td>\n",
       "      <td>17</td>\n",
       "      <td>20180706</td>\n",
       "      <td>105527</td>\n",
       "      <td>Gemcitabin_KS</td>\n",
       "      <td>0218-KLStg</td>\n",
       "      <td>83</td>\n",
       "    </tr>\n",
       "    <tr>\n",
       "      <th>4</th>\n",
       "      <td>5</td>\n",
       "      <td>10020401928</td>\n",
       "      <td>0</td>\n",
       "      <td>5000737</td>\n",
       "      <td>75469116</td>\n",
       "      <td>LAALT</td>\n",
       "      <td>20</td>\n",
       "      <td>20180814</td>\n",
       "      <td>134102</td>\n",
       "      <td>Carboplatin-Gemcitabine</td>\n",
       "      <td>0019-KLStg</td>\n",
       "      <td>83</td>\n",
       "    </tr>\n",
       "  </tbody>\n",
       "</table>\n",
       "</div>"
      ],
      "text/plain": [
       "   ID        doknr  dokvr    patnr     falnr n2leistid n2value    n2date  \\\n",
       "0   1  10019944256      0  5000737  75340477     LAALT      10  20180604   \n",
       "1   2  10019954203      0  5000737  75340477     LAALT      11  20180605   \n",
       "2   3  10019960371      0  5000737  75340477     LAALT      12  20180606   \n",
       "3   4  10020159113      0  5000737  75404297     LAALT      17  20180706   \n",
       "4   5  10020401928      0  5000737  75469116     LAALT      20  20180814   \n",
       "\n",
       "   n2time           Protokollnamen Protokollnummer  alter  \n",
       "0  101758            Gemcitabin_KS      0218-KLStg     83  \n",
       "1  120041            Gemcitabin_KS      0218-KLStg     83  \n",
       "2   90436            Gemcitabin_KS      0218-KLStg     83  \n",
       "3  105527            Gemcitabin_KS      0218-KLStg     83  \n",
       "4  134102  Carboplatin-Gemcitabine      0019-KLStg     83  "
      ]
     },
     "execution_count": 153,
     "metadata": {},
     "output_type": "execute_result"
    }
   ],
   "source": [
    "data_df = pd.read_csv(\"Labordaten1.csv\")\n",
    "\n",
    "data_df.head()"
   ]
  },
  {
   "cell_type": "code",
   "execution_count": 154,
   "metadata": {},
   "outputs": [
    {
     "data": {
      "text/plain": [
       "(1183001, 12)"
      ]
     },
     "execution_count": 154,
     "metadata": {},
     "output_type": "execute_result"
    }
   ],
   "source": [
    "data_df.shape"
   ]
  },
  {
   "cell_type": "code",
   "execution_count": 155,
   "metadata": {
    "scrolled": true
   },
   "outputs": [
    {
     "name": "stdout",
     "output_type": "stream",
     "text": [
      "<class 'pandas.core.frame.DataFrame'>\n",
      "RangeIndex: 1183001 entries, 0 to 1183000\n",
      "Data columns (total 12 columns):\n",
      " #   Column           Non-Null Count    Dtype \n",
      "---  ------           --------------    ----- \n",
      " 0   ID               1183001 non-null  int64 \n",
      " 1   doknr            1183001 non-null  int64 \n",
      " 2   dokvr            1183001 non-null  int64 \n",
      " 3   patnr            1183001 non-null  int64 \n",
      " 4   falnr            1183001 non-null  int64 \n",
      " 5   n2leistid        1183001 non-null  object\n",
      " 6   n2value          1183001 non-null  object\n",
      " 7   n2date           1183001 non-null  object\n",
      " 8   n2time           1183001 non-null  int64 \n",
      " 9   Protokollnamen   1183001 non-null  object\n",
      " 10  Protokollnummer  1183001 non-null  object\n",
      " 11  alter            1183001 non-null  int64 \n",
      "dtypes: int64(7), object(5)\n",
      "memory usage: 108.3+ MB\n"
     ]
    }
   ],
   "source": [
    "data_df.info()"
   ]
  },
  {
   "cell_type": "code",
   "execution_count": 161,
   "metadata": {},
   "outputs": [
    {
     "data": {
      "text/plain": [
       "1180458"
      ]
     },
     "execution_count": 161,
     "metadata": {},
     "output_type": "execute_result"
    }
   ],
   "source": [
    "data_df.duplicated(subset='patnr', keep='first').sum()"
   ]
  },
  {
   "cell_type": "code",
   "execution_count": 165,
   "metadata": {},
   "outputs": [
    {
     "data": {
      "text/plain": [
       "2543"
      ]
     },
     "execution_count": 165,
     "metadata": {},
     "output_type": "execute_result"
    }
   ],
   "source": [
    "unique_patient = data_df['patnr'].nunique()\n",
    "unique_patient"
   ]
  },
  {
   "cell_type": "code",
   "execution_count": 190,
   "metadata": {},
   "outputs": [
    {
     "ename": "AttributeError",
     "evalue": "'DataFrame' object has no attribute 'unique_patient'",
     "output_type": "error",
     "traceback": [
      "\u001b[1;31m---------------------------------------------------------------------------\u001b[0m",
      "\u001b[1;31mAttributeError\u001b[0m                            Traceback (most recent call last)",
      "\u001b[1;32m<ipython-input-190-bdc20f1b94c7>\u001b[0m in \u001b[0;36m<module>\u001b[1;34m\u001b[0m\n\u001b[1;32m----> 1\u001b[1;33m \u001b[0mdata_df\u001b[0m\u001b[1;33m.\u001b[0m\u001b[0munique_patient\u001b[0m\u001b[1;33m\u001b[0m\u001b[1;33m\u001b[0m\u001b[0m\n\u001b[0m",
      "\u001b[1;32mC:\\ProgramData\\Anaconda3\\lib\\site-packages\\pandas\\core\\generic.py\u001b[0m in \u001b[0;36m__getattr__\u001b[1;34m(self, name)\u001b[0m\n\u001b[0;32m   5272\u001b[0m             \u001b[1;32mif\u001b[0m \u001b[0mself\u001b[0m\u001b[1;33m.\u001b[0m\u001b[0m_info_axis\u001b[0m\u001b[1;33m.\u001b[0m\u001b[0m_can_hold_identifiers_and_holds_name\u001b[0m\u001b[1;33m(\u001b[0m\u001b[0mname\u001b[0m\u001b[1;33m)\u001b[0m\u001b[1;33m:\u001b[0m\u001b[1;33m\u001b[0m\u001b[1;33m\u001b[0m\u001b[0m\n\u001b[0;32m   5273\u001b[0m                 \u001b[1;32mreturn\u001b[0m \u001b[0mself\u001b[0m\u001b[1;33m[\u001b[0m\u001b[0mname\u001b[0m\u001b[1;33m]\u001b[0m\u001b[1;33m\u001b[0m\u001b[1;33m\u001b[0m\u001b[0m\n\u001b[1;32m-> 5274\u001b[1;33m             \u001b[1;32mreturn\u001b[0m \u001b[0mobject\u001b[0m\u001b[1;33m.\u001b[0m\u001b[0m__getattribute__\u001b[0m\u001b[1;33m(\u001b[0m\u001b[0mself\u001b[0m\u001b[1;33m,\u001b[0m \u001b[0mname\u001b[0m\u001b[1;33m)\u001b[0m\u001b[1;33m\u001b[0m\u001b[1;33m\u001b[0m\u001b[0m\n\u001b[0m\u001b[0;32m   5275\u001b[0m \u001b[1;33m\u001b[0m\u001b[0m\n\u001b[0;32m   5276\u001b[0m     \u001b[1;32mdef\u001b[0m \u001b[0m__setattr__\u001b[0m\u001b[1;33m(\u001b[0m\u001b[0mself\u001b[0m\u001b[1;33m,\u001b[0m \u001b[0mname\u001b[0m\u001b[1;33m:\u001b[0m \u001b[0mstr\u001b[0m\u001b[1;33m,\u001b[0m \u001b[0mvalue\u001b[0m\u001b[1;33m)\u001b[0m \u001b[1;33m->\u001b[0m \u001b[1;32mNone\u001b[0m\u001b[1;33m:\u001b[0m\u001b[1;33m\u001b[0m\u001b[1;33m\u001b[0m\u001b[0m\n",
      "\u001b[1;31mAttributeError\u001b[0m: 'DataFrame' object has no attribute 'unique_patient'"
     ]
    }
   ],
   "source": [
    "data_df.unique_patient\n"
   ]
  },
  {
   "cell_type": "code",
   "execution_count": 192,
   "metadata": {},
   "outputs": [
    {
     "ename": "SyntaxError",
     "evalue": "invalid syntax (<ipython-input-192-b12e056959b1>, line 10)",
     "output_type": "error",
     "traceback": [
      "\u001b[1;36m  File \u001b[1;32m\"<ipython-input-192-b12e056959b1>\"\u001b[1;36m, line \u001b[1;32m10\u001b[0m\n\u001b[1;33m    hist(data_df.['n2value'], weights=data_df.unique_patient)\u001b[0m\n\u001b[1;37m                 ^\u001b[0m\n\u001b[1;31mSyntaxError\u001b[0m\u001b[1;31m:\u001b[0m invalid syntax\n"
     ]
    }
   ],
   "source": [
    "import numpy as np\n",
    "import matplotlib.pyplot as plt\n",
    "\n",
    "\n",
    "from matplotlib.pyplot import hist\n",
    "df = pd.DataFrame({\n",
    "    'n2value': np.random.randn(100),\n",
    "    'unique_patient': 100 * np.random.rand()\n",
    "})\n",
    "hist(data_df.['n2value'], weights=data_df.unique_patient)\n",
    "\n",
    "fig.tight_layout()\n",
    "plt.show()"
   ]
  },
  {
   "cell_type": "code",
   "execution_count": 189,
   "metadata": {},
   "outputs": [],
   "source": [
    "#remove string in columns [n2value]\n",
    "blacklist = [\"geronnen\", \"Material fehlt\", \"<0.01\",\"entfõllt\",\"Anforderung wurde vom Einsender storniert.\",\"BB-Differenzierung nicht verwertbar\", \"falsches Material\",\"Bestimmung entfõllt\", \"Verdacht auf Probenverwechslung durch den Einsender\", \"!sKomm\", \"Probe im Labor verungl\\xb3ckt\"]\n",
    "data_df = data_df[~data_df[\"n2value\"].isin(blacklist)]"
   ]
  },
  {
   "cell_type": "code",
   "execution_count": 186,
   "metadata": {},
   "outputs": [
    {
     "name": "stdout",
     "output_type": "stream",
     "text": [
      "0           10\n",
      "1           11\n",
      "2           12\n",
      "3           17\n",
      "4           20\n",
      "          ... \n",
      "1182996    5.1\n",
      "1182997    223\n",
      "1182998    223\n",
      "1182999    223\n",
      "1183000    223\n",
      "Name: n2value, Length: 1167785, dtype: object\n"
     ]
    },
    {
     "ename": "ValueError",
     "evalue": "could not convert string to float: '< 0.3'",
     "output_type": "error",
     "traceback": [
      "\u001b[1;31m---------------------------------------------------------------------------\u001b[0m",
      "\u001b[1;31mValueError\u001b[0m                                Traceback (most recent call last)",
      "\u001b[1;32m<ipython-input-186-d188fa2c419e>\u001b[0m in \u001b[0;36m<module>\u001b[1;34m\u001b[0m\n\u001b[0;32m     10\u001b[0m \u001b[0mblacklist\u001b[0m \u001b[1;33m=\u001b[0m \u001b[1;33m[\u001b[0m\u001b[1;34m\"geronnen\"\u001b[0m\u001b[1;33m,\u001b[0m \u001b[1;34m\"Material fehlt\"\u001b[0m\u001b[1;33m,\u001b[0m \u001b[1;34m\"<0.01\"\u001b[0m\u001b[1;33m,\u001b[0m\u001b[1;34m\"entfõllt\"\u001b[0m\u001b[1;33m,\u001b[0m\u001b[1;34m\"Anforderung wurde vom Einsender storniert.\"\u001b[0m\u001b[1;33m,\u001b[0m\u001b[1;34m\"BB-Differenzierung nicht verwertbar\"\u001b[0m\u001b[1;33m,\u001b[0m \u001b[1;34m\"falsches Material\"\u001b[0m\u001b[1;33m,\u001b[0m\u001b[1;34m\"Bestimmung entfõllt\"\u001b[0m\u001b[1;33m,\u001b[0m \u001b[1;34m\"Verdacht auf Probenverwechslung durch den Einsender\"\u001b[0m\u001b[1;33m,\u001b[0m \u001b[1;34m\"!sKomm\"\u001b[0m\u001b[1;33m,\u001b[0m \u001b[1;34m\"Probe im Labor verungl\\xb3ckt\"\u001b[0m\u001b[1;33m]\u001b[0m\u001b[1;33m\u001b[0m\u001b[1;33m\u001b[0m\u001b[0m\n\u001b[0;32m     11\u001b[0m \u001b[0mdata_df\u001b[0m \u001b[1;33m=\u001b[0m \u001b[0mdata_df\u001b[0m\u001b[1;33m[\u001b[0m\u001b[1;33m~\u001b[0m\u001b[0mnew_string\u001b[0m\u001b[1;33m.\u001b[0m\u001b[0misin\u001b[0m\u001b[1;33m(\u001b[0m\u001b[0mblacklist\u001b[0m\u001b[1;33m)\u001b[0m\u001b[1;33m]\u001b[0m\u001b[1;33m\u001b[0m\u001b[1;33m\u001b[0m\u001b[0m\n\u001b[1;32m---> 12\u001b[1;33m \u001b[0mnew_string\u001b[0m \u001b[1;33m=\u001b[0m \u001b[0mnew_string\u001b[0m\u001b[1;33m.\u001b[0m\u001b[0mastype\u001b[0m\u001b[1;33m(\u001b[0m\u001b[0mfloat\u001b[0m\u001b[1;33m)\u001b[0m\u001b[1;33m\u001b[0m\u001b[1;33m\u001b[0m\u001b[0m\n\u001b[0m",
      "\u001b[1;32mC:\\ProgramData\\Anaconda3\\lib\\site-packages\\pandas\\core\\generic.py\u001b[0m in \u001b[0;36mastype\u001b[1;34m(self, dtype, copy, errors)\u001b[0m\n\u001b[0;32m   5696\u001b[0m         \u001b[1;32melse\u001b[0m\u001b[1;33m:\u001b[0m\u001b[1;33m\u001b[0m\u001b[1;33m\u001b[0m\u001b[0m\n\u001b[0;32m   5697\u001b[0m             \u001b[1;31m# else, only a single dtype is given\u001b[0m\u001b[1;33m\u001b[0m\u001b[1;33m\u001b[0m\u001b[1;33m\u001b[0m\u001b[0m\n\u001b[1;32m-> 5698\u001b[1;33m             \u001b[0mnew_data\u001b[0m \u001b[1;33m=\u001b[0m \u001b[0mself\u001b[0m\u001b[1;33m.\u001b[0m\u001b[0m_data\u001b[0m\u001b[1;33m.\u001b[0m\u001b[0mastype\u001b[0m\u001b[1;33m(\u001b[0m\u001b[0mdtype\u001b[0m\u001b[1;33m=\u001b[0m\u001b[0mdtype\u001b[0m\u001b[1;33m,\u001b[0m \u001b[0mcopy\u001b[0m\u001b[1;33m=\u001b[0m\u001b[0mcopy\u001b[0m\u001b[1;33m,\u001b[0m \u001b[0merrors\u001b[0m\u001b[1;33m=\u001b[0m\u001b[0merrors\u001b[0m\u001b[1;33m)\u001b[0m\u001b[1;33m\u001b[0m\u001b[1;33m\u001b[0m\u001b[0m\n\u001b[0m\u001b[0;32m   5699\u001b[0m             \u001b[1;32mreturn\u001b[0m \u001b[0mself\u001b[0m\u001b[1;33m.\u001b[0m\u001b[0m_constructor\u001b[0m\u001b[1;33m(\u001b[0m\u001b[0mnew_data\u001b[0m\u001b[1;33m)\u001b[0m\u001b[1;33m.\u001b[0m\u001b[0m__finalize__\u001b[0m\u001b[1;33m(\u001b[0m\u001b[0mself\u001b[0m\u001b[1;33m)\u001b[0m\u001b[1;33m\u001b[0m\u001b[1;33m\u001b[0m\u001b[0m\n\u001b[0;32m   5700\u001b[0m \u001b[1;33m\u001b[0m\u001b[0m\n",
      "\u001b[1;32mC:\\ProgramData\\Anaconda3\\lib\\site-packages\\pandas\\core\\internals\\managers.py\u001b[0m in \u001b[0;36mastype\u001b[1;34m(self, dtype, copy, errors)\u001b[0m\n\u001b[0;32m    580\u001b[0m \u001b[1;33m\u001b[0m\u001b[0m\n\u001b[0;32m    581\u001b[0m     \u001b[1;32mdef\u001b[0m \u001b[0mastype\u001b[0m\u001b[1;33m(\u001b[0m\u001b[0mself\u001b[0m\u001b[1;33m,\u001b[0m \u001b[0mdtype\u001b[0m\u001b[1;33m,\u001b[0m \u001b[0mcopy\u001b[0m\u001b[1;33m:\u001b[0m \u001b[0mbool\u001b[0m \u001b[1;33m=\u001b[0m \u001b[1;32mFalse\u001b[0m\u001b[1;33m,\u001b[0m \u001b[0merrors\u001b[0m\u001b[1;33m:\u001b[0m \u001b[0mstr\u001b[0m \u001b[1;33m=\u001b[0m \u001b[1;34m\"raise\"\u001b[0m\u001b[1;33m)\u001b[0m\u001b[1;33m:\u001b[0m\u001b[1;33m\u001b[0m\u001b[1;33m\u001b[0m\u001b[0m\n\u001b[1;32m--> 582\u001b[1;33m         \u001b[1;32mreturn\u001b[0m \u001b[0mself\u001b[0m\u001b[1;33m.\u001b[0m\u001b[0mapply\u001b[0m\u001b[1;33m(\u001b[0m\u001b[1;34m\"astype\"\u001b[0m\u001b[1;33m,\u001b[0m \u001b[0mdtype\u001b[0m\u001b[1;33m=\u001b[0m\u001b[0mdtype\u001b[0m\u001b[1;33m,\u001b[0m \u001b[0mcopy\u001b[0m\u001b[1;33m=\u001b[0m\u001b[0mcopy\u001b[0m\u001b[1;33m,\u001b[0m \u001b[0merrors\u001b[0m\u001b[1;33m=\u001b[0m\u001b[0merrors\u001b[0m\u001b[1;33m)\u001b[0m\u001b[1;33m\u001b[0m\u001b[1;33m\u001b[0m\u001b[0m\n\u001b[0m\u001b[0;32m    583\u001b[0m \u001b[1;33m\u001b[0m\u001b[0m\n\u001b[0;32m    584\u001b[0m     \u001b[1;32mdef\u001b[0m \u001b[0mconvert\u001b[0m\u001b[1;33m(\u001b[0m\u001b[0mself\u001b[0m\u001b[1;33m,\u001b[0m \u001b[1;33m**\u001b[0m\u001b[0mkwargs\u001b[0m\u001b[1;33m)\u001b[0m\u001b[1;33m:\u001b[0m\u001b[1;33m\u001b[0m\u001b[1;33m\u001b[0m\u001b[0m\n",
      "\u001b[1;32mC:\\ProgramData\\Anaconda3\\lib\\site-packages\\pandas\\core\\internals\\managers.py\u001b[0m in \u001b[0;36mapply\u001b[1;34m(self, f, filter, **kwargs)\u001b[0m\n\u001b[0;32m    440\u001b[0m                 \u001b[0mapplied\u001b[0m \u001b[1;33m=\u001b[0m \u001b[0mb\u001b[0m\u001b[1;33m.\u001b[0m\u001b[0mapply\u001b[0m\u001b[1;33m(\u001b[0m\u001b[0mf\u001b[0m\u001b[1;33m,\u001b[0m \u001b[1;33m**\u001b[0m\u001b[0mkwargs\u001b[0m\u001b[1;33m)\u001b[0m\u001b[1;33m\u001b[0m\u001b[1;33m\u001b[0m\u001b[0m\n\u001b[0;32m    441\u001b[0m             \u001b[1;32melse\u001b[0m\u001b[1;33m:\u001b[0m\u001b[1;33m\u001b[0m\u001b[1;33m\u001b[0m\u001b[0m\n\u001b[1;32m--> 442\u001b[1;33m                 \u001b[0mapplied\u001b[0m \u001b[1;33m=\u001b[0m \u001b[0mgetattr\u001b[0m\u001b[1;33m(\u001b[0m\u001b[0mb\u001b[0m\u001b[1;33m,\u001b[0m \u001b[0mf\u001b[0m\u001b[1;33m)\u001b[0m\u001b[1;33m(\u001b[0m\u001b[1;33m**\u001b[0m\u001b[0mkwargs\u001b[0m\u001b[1;33m)\u001b[0m\u001b[1;33m\u001b[0m\u001b[1;33m\u001b[0m\u001b[0m\n\u001b[0m\u001b[0;32m    443\u001b[0m             \u001b[0mresult_blocks\u001b[0m \u001b[1;33m=\u001b[0m \u001b[0m_extend_blocks\u001b[0m\u001b[1;33m(\u001b[0m\u001b[0mapplied\u001b[0m\u001b[1;33m,\u001b[0m \u001b[0mresult_blocks\u001b[0m\u001b[1;33m)\u001b[0m\u001b[1;33m\u001b[0m\u001b[1;33m\u001b[0m\u001b[0m\n\u001b[0;32m    444\u001b[0m \u001b[1;33m\u001b[0m\u001b[0m\n",
      "\u001b[1;32mC:\\ProgramData\\Anaconda3\\lib\\site-packages\\pandas\\core\\internals\\blocks.py\u001b[0m in \u001b[0;36mastype\u001b[1;34m(self, dtype, copy, errors)\u001b[0m\n\u001b[0;32m    623\u001b[0m             \u001b[0mvals1d\u001b[0m \u001b[1;33m=\u001b[0m \u001b[0mvalues\u001b[0m\u001b[1;33m.\u001b[0m\u001b[0mravel\u001b[0m\u001b[1;33m(\u001b[0m\u001b[1;33m)\u001b[0m\u001b[1;33m\u001b[0m\u001b[1;33m\u001b[0m\u001b[0m\n\u001b[0;32m    624\u001b[0m             \u001b[1;32mtry\u001b[0m\u001b[1;33m:\u001b[0m\u001b[1;33m\u001b[0m\u001b[1;33m\u001b[0m\u001b[0m\n\u001b[1;32m--> 625\u001b[1;33m                 \u001b[0mvalues\u001b[0m \u001b[1;33m=\u001b[0m \u001b[0mastype_nansafe\u001b[0m\u001b[1;33m(\u001b[0m\u001b[0mvals1d\u001b[0m\u001b[1;33m,\u001b[0m \u001b[0mdtype\u001b[0m\u001b[1;33m,\u001b[0m \u001b[0mcopy\u001b[0m\u001b[1;33m=\u001b[0m\u001b[1;32mTrue\u001b[0m\u001b[1;33m)\u001b[0m\u001b[1;33m\u001b[0m\u001b[1;33m\u001b[0m\u001b[0m\n\u001b[0m\u001b[0;32m    626\u001b[0m             \u001b[1;32mexcept\u001b[0m \u001b[1;33m(\u001b[0m\u001b[0mValueError\u001b[0m\u001b[1;33m,\u001b[0m \u001b[0mTypeError\u001b[0m\u001b[1;33m)\u001b[0m\u001b[1;33m:\u001b[0m\u001b[1;33m\u001b[0m\u001b[1;33m\u001b[0m\u001b[0m\n\u001b[0;32m    627\u001b[0m                 \u001b[1;31m# e.g. astype_nansafe can fail on object-dtype of strings\u001b[0m\u001b[1;33m\u001b[0m\u001b[1;33m\u001b[0m\u001b[1;33m\u001b[0m\u001b[0m\n",
      "\u001b[1;32mC:\\ProgramData\\Anaconda3\\lib\\site-packages\\pandas\\core\\dtypes\\cast.py\u001b[0m in \u001b[0;36mastype_nansafe\u001b[1;34m(arr, dtype, copy, skipna)\u001b[0m\n\u001b[0;32m    895\u001b[0m     \u001b[1;32mif\u001b[0m \u001b[0mcopy\u001b[0m \u001b[1;32mor\u001b[0m \u001b[0mis_object_dtype\u001b[0m\u001b[1;33m(\u001b[0m\u001b[0marr\u001b[0m\u001b[1;33m)\u001b[0m \u001b[1;32mor\u001b[0m \u001b[0mis_object_dtype\u001b[0m\u001b[1;33m(\u001b[0m\u001b[0mdtype\u001b[0m\u001b[1;33m)\u001b[0m\u001b[1;33m:\u001b[0m\u001b[1;33m\u001b[0m\u001b[1;33m\u001b[0m\u001b[0m\n\u001b[0;32m    896\u001b[0m         \u001b[1;31m# Explicit copy, or required since NumPy can't view from / to object.\u001b[0m\u001b[1;33m\u001b[0m\u001b[1;33m\u001b[0m\u001b[1;33m\u001b[0m\u001b[0m\n\u001b[1;32m--> 897\u001b[1;33m         \u001b[1;32mreturn\u001b[0m \u001b[0marr\u001b[0m\u001b[1;33m.\u001b[0m\u001b[0mastype\u001b[0m\u001b[1;33m(\u001b[0m\u001b[0mdtype\u001b[0m\u001b[1;33m,\u001b[0m \u001b[0mcopy\u001b[0m\u001b[1;33m=\u001b[0m\u001b[1;32mTrue\u001b[0m\u001b[1;33m)\u001b[0m\u001b[1;33m\u001b[0m\u001b[1;33m\u001b[0m\u001b[0m\n\u001b[0m\u001b[0;32m    898\u001b[0m \u001b[1;33m\u001b[0m\u001b[0m\n\u001b[0;32m    899\u001b[0m     \u001b[1;32mreturn\u001b[0m \u001b[0marr\u001b[0m\u001b[1;33m.\u001b[0m\u001b[0mview\u001b[0m\u001b[1;33m(\u001b[0m\u001b[0mdtype\u001b[0m\u001b[1;33m)\u001b[0m\u001b[1;33m\u001b[0m\u001b[1;33m\u001b[0m\u001b[0m\n",
      "\u001b[1;31mValueError\u001b[0m: could not convert string to float: '< 0.3'"
     ]
    }
   ],
   "source": [
    "original_string = data_df['n2value']\n",
    "characters_to_remove = \"<\"\n",
    "\n",
    "new_string = original_string\n",
    "for character in characters_to_remove:\n",
    "  new_string = new_string.replace(character, \" \")\n",
    "\n",
    "print(new_string)\n",
    "new_string = new_string.astype(float)\n",
    "\n",
    "#data_df['n2value'] = data_df['n2value'].astype(float)"
   ]
  },
  {
   "cell_type": "code",
   "execution_count": 188,
   "metadata": {},
   "outputs": [
    {
     "ename": "ValueError",
     "evalue": "could not convert string to float: '< 0.3'",
     "output_type": "error",
     "traceback": [
      "\u001b[1;31m---------------------------------------------------------------------------\u001b[0m",
      "\u001b[1;31mValueError\u001b[0m                                Traceback (most recent call last)",
      "\u001b[1;32m<ipython-input-188-6ee4790f08a2>\u001b[0m in \u001b[0;36m<module>\u001b[1;34m\u001b[0m\n\u001b[1;32m----> 1\u001b[1;33m \u001b[0mnew_string\u001b[0m \u001b[1;33m=\u001b[0m \u001b[0mnew_string\u001b[0m\u001b[1;33m.\u001b[0m\u001b[0mastype\u001b[0m\u001b[1;33m(\u001b[0m\u001b[0mfloat\u001b[0m\u001b[1;33m)\u001b[0m\u001b[1;33m\u001b[0m\u001b[1;33m\u001b[0m\u001b[0m\n\u001b[0m",
      "\u001b[1;32mC:\\ProgramData\\Anaconda3\\lib\\site-packages\\pandas\\core\\generic.py\u001b[0m in \u001b[0;36mastype\u001b[1;34m(self, dtype, copy, errors)\u001b[0m\n\u001b[0;32m   5696\u001b[0m         \u001b[1;32melse\u001b[0m\u001b[1;33m:\u001b[0m\u001b[1;33m\u001b[0m\u001b[1;33m\u001b[0m\u001b[0m\n\u001b[0;32m   5697\u001b[0m             \u001b[1;31m# else, only a single dtype is given\u001b[0m\u001b[1;33m\u001b[0m\u001b[1;33m\u001b[0m\u001b[1;33m\u001b[0m\u001b[0m\n\u001b[1;32m-> 5698\u001b[1;33m             \u001b[0mnew_data\u001b[0m \u001b[1;33m=\u001b[0m \u001b[0mself\u001b[0m\u001b[1;33m.\u001b[0m\u001b[0m_data\u001b[0m\u001b[1;33m.\u001b[0m\u001b[0mastype\u001b[0m\u001b[1;33m(\u001b[0m\u001b[0mdtype\u001b[0m\u001b[1;33m=\u001b[0m\u001b[0mdtype\u001b[0m\u001b[1;33m,\u001b[0m \u001b[0mcopy\u001b[0m\u001b[1;33m=\u001b[0m\u001b[0mcopy\u001b[0m\u001b[1;33m,\u001b[0m \u001b[0merrors\u001b[0m\u001b[1;33m=\u001b[0m\u001b[0merrors\u001b[0m\u001b[1;33m)\u001b[0m\u001b[1;33m\u001b[0m\u001b[1;33m\u001b[0m\u001b[0m\n\u001b[0m\u001b[0;32m   5699\u001b[0m             \u001b[1;32mreturn\u001b[0m \u001b[0mself\u001b[0m\u001b[1;33m.\u001b[0m\u001b[0m_constructor\u001b[0m\u001b[1;33m(\u001b[0m\u001b[0mnew_data\u001b[0m\u001b[1;33m)\u001b[0m\u001b[1;33m.\u001b[0m\u001b[0m__finalize__\u001b[0m\u001b[1;33m(\u001b[0m\u001b[0mself\u001b[0m\u001b[1;33m)\u001b[0m\u001b[1;33m\u001b[0m\u001b[1;33m\u001b[0m\u001b[0m\n\u001b[0;32m   5700\u001b[0m \u001b[1;33m\u001b[0m\u001b[0m\n",
      "\u001b[1;32mC:\\ProgramData\\Anaconda3\\lib\\site-packages\\pandas\\core\\internals\\managers.py\u001b[0m in \u001b[0;36mastype\u001b[1;34m(self, dtype, copy, errors)\u001b[0m\n\u001b[0;32m    580\u001b[0m \u001b[1;33m\u001b[0m\u001b[0m\n\u001b[0;32m    581\u001b[0m     \u001b[1;32mdef\u001b[0m \u001b[0mastype\u001b[0m\u001b[1;33m(\u001b[0m\u001b[0mself\u001b[0m\u001b[1;33m,\u001b[0m \u001b[0mdtype\u001b[0m\u001b[1;33m,\u001b[0m \u001b[0mcopy\u001b[0m\u001b[1;33m:\u001b[0m \u001b[0mbool\u001b[0m \u001b[1;33m=\u001b[0m \u001b[1;32mFalse\u001b[0m\u001b[1;33m,\u001b[0m \u001b[0merrors\u001b[0m\u001b[1;33m:\u001b[0m \u001b[0mstr\u001b[0m \u001b[1;33m=\u001b[0m \u001b[1;34m\"raise\"\u001b[0m\u001b[1;33m)\u001b[0m\u001b[1;33m:\u001b[0m\u001b[1;33m\u001b[0m\u001b[1;33m\u001b[0m\u001b[0m\n\u001b[1;32m--> 582\u001b[1;33m         \u001b[1;32mreturn\u001b[0m \u001b[0mself\u001b[0m\u001b[1;33m.\u001b[0m\u001b[0mapply\u001b[0m\u001b[1;33m(\u001b[0m\u001b[1;34m\"astype\"\u001b[0m\u001b[1;33m,\u001b[0m \u001b[0mdtype\u001b[0m\u001b[1;33m=\u001b[0m\u001b[0mdtype\u001b[0m\u001b[1;33m,\u001b[0m \u001b[0mcopy\u001b[0m\u001b[1;33m=\u001b[0m\u001b[0mcopy\u001b[0m\u001b[1;33m,\u001b[0m \u001b[0merrors\u001b[0m\u001b[1;33m=\u001b[0m\u001b[0merrors\u001b[0m\u001b[1;33m)\u001b[0m\u001b[1;33m\u001b[0m\u001b[1;33m\u001b[0m\u001b[0m\n\u001b[0m\u001b[0;32m    583\u001b[0m \u001b[1;33m\u001b[0m\u001b[0m\n\u001b[0;32m    584\u001b[0m     \u001b[1;32mdef\u001b[0m \u001b[0mconvert\u001b[0m\u001b[1;33m(\u001b[0m\u001b[0mself\u001b[0m\u001b[1;33m,\u001b[0m \u001b[1;33m**\u001b[0m\u001b[0mkwargs\u001b[0m\u001b[1;33m)\u001b[0m\u001b[1;33m:\u001b[0m\u001b[1;33m\u001b[0m\u001b[1;33m\u001b[0m\u001b[0m\n",
      "\u001b[1;32mC:\\ProgramData\\Anaconda3\\lib\\site-packages\\pandas\\core\\internals\\managers.py\u001b[0m in \u001b[0;36mapply\u001b[1;34m(self, f, filter, **kwargs)\u001b[0m\n\u001b[0;32m    440\u001b[0m                 \u001b[0mapplied\u001b[0m \u001b[1;33m=\u001b[0m \u001b[0mb\u001b[0m\u001b[1;33m.\u001b[0m\u001b[0mapply\u001b[0m\u001b[1;33m(\u001b[0m\u001b[0mf\u001b[0m\u001b[1;33m,\u001b[0m \u001b[1;33m**\u001b[0m\u001b[0mkwargs\u001b[0m\u001b[1;33m)\u001b[0m\u001b[1;33m\u001b[0m\u001b[1;33m\u001b[0m\u001b[0m\n\u001b[0;32m    441\u001b[0m             \u001b[1;32melse\u001b[0m\u001b[1;33m:\u001b[0m\u001b[1;33m\u001b[0m\u001b[1;33m\u001b[0m\u001b[0m\n\u001b[1;32m--> 442\u001b[1;33m                 \u001b[0mapplied\u001b[0m \u001b[1;33m=\u001b[0m \u001b[0mgetattr\u001b[0m\u001b[1;33m(\u001b[0m\u001b[0mb\u001b[0m\u001b[1;33m,\u001b[0m \u001b[0mf\u001b[0m\u001b[1;33m)\u001b[0m\u001b[1;33m(\u001b[0m\u001b[1;33m**\u001b[0m\u001b[0mkwargs\u001b[0m\u001b[1;33m)\u001b[0m\u001b[1;33m\u001b[0m\u001b[1;33m\u001b[0m\u001b[0m\n\u001b[0m\u001b[0;32m    443\u001b[0m             \u001b[0mresult_blocks\u001b[0m \u001b[1;33m=\u001b[0m \u001b[0m_extend_blocks\u001b[0m\u001b[1;33m(\u001b[0m\u001b[0mapplied\u001b[0m\u001b[1;33m,\u001b[0m \u001b[0mresult_blocks\u001b[0m\u001b[1;33m)\u001b[0m\u001b[1;33m\u001b[0m\u001b[1;33m\u001b[0m\u001b[0m\n\u001b[0;32m    444\u001b[0m \u001b[1;33m\u001b[0m\u001b[0m\n",
      "\u001b[1;32mC:\\ProgramData\\Anaconda3\\lib\\site-packages\\pandas\\core\\internals\\blocks.py\u001b[0m in \u001b[0;36mastype\u001b[1;34m(self, dtype, copy, errors)\u001b[0m\n\u001b[0;32m    623\u001b[0m             \u001b[0mvals1d\u001b[0m \u001b[1;33m=\u001b[0m \u001b[0mvalues\u001b[0m\u001b[1;33m.\u001b[0m\u001b[0mravel\u001b[0m\u001b[1;33m(\u001b[0m\u001b[1;33m)\u001b[0m\u001b[1;33m\u001b[0m\u001b[1;33m\u001b[0m\u001b[0m\n\u001b[0;32m    624\u001b[0m             \u001b[1;32mtry\u001b[0m\u001b[1;33m:\u001b[0m\u001b[1;33m\u001b[0m\u001b[1;33m\u001b[0m\u001b[0m\n\u001b[1;32m--> 625\u001b[1;33m                 \u001b[0mvalues\u001b[0m \u001b[1;33m=\u001b[0m \u001b[0mastype_nansafe\u001b[0m\u001b[1;33m(\u001b[0m\u001b[0mvals1d\u001b[0m\u001b[1;33m,\u001b[0m \u001b[0mdtype\u001b[0m\u001b[1;33m,\u001b[0m \u001b[0mcopy\u001b[0m\u001b[1;33m=\u001b[0m\u001b[1;32mTrue\u001b[0m\u001b[1;33m)\u001b[0m\u001b[1;33m\u001b[0m\u001b[1;33m\u001b[0m\u001b[0m\n\u001b[0m\u001b[0;32m    626\u001b[0m             \u001b[1;32mexcept\u001b[0m \u001b[1;33m(\u001b[0m\u001b[0mValueError\u001b[0m\u001b[1;33m,\u001b[0m \u001b[0mTypeError\u001b[0m\u001b[1;33m)\u001b[0m\u001b[1;33m:\u001b[0m\u001b[1;33m\u001b[0m\u001b[1;33m\u001b[0m\u001b[0m\n\u001b[0;32m    627\u001b[0m                 \u001b[1;31m# e.g. astype_nansafe can fail on object-dtype of strings\u001b[0m\u001b[1;33m\u001b[0m\u001b[1;33m\u001b[0m\u001b[1;33m\u001b[0m\u001b[0m\n",
      "\u001b[1;32mC:\\ProgramData\\Anaconda3\\lib\\site-packages\\pandas\\core\\dtypes\\cast.py\u001b[0m in \u001b[0;36mastype_nansafe\u001b[1;34m(arr, dtype, copy, skipna)\u001b[0m\n\u001b[0;32m    895\u001b[0m     \u001b[1;32mif\u001b[0m \u001b[0mcopy\u001b[0m \u001b[1;32mor\u001b[0m \u001b[0mis_object_dtype\u001b[0m\u001b[1;33m(\u001b[0m\u001b[0marr\u001b[0m\u001b[1;33m)\u001b[0m \u001b[1;32mor\u001b[0m \u001b[0mis_object_dtype\u001b[0m\u001b[1;33m(\u001b[0m\u001b[0mdtype\u001b[0m\u001b[1;33m)\u001b[0m\u001b[1;33m:\u001b[0m\u001b[1;33m\u001b[0m\u001b[1;33m\u001b[0m\u001b[0m\n\u001b[0;32m    896\u001b[0m         \u001b[1;31m# Explicit copy, or required since NumPy can't view from / to object.\u001b[0m\u001b[1;33m\u001b[0m\u001b[1;33m\u001b[0m\u001b[1;33m\u001b[0m\u001b[0m\n\u001b[1;32m--> 897\u001b[1;33m         \u001b[1;32mreturn\u001b[0m \u001b[0marr\u001b[0m\u001b[1;33m.\u001b[0m\u001b[0mastype\u001b[0m\u001b[1;33m(\u001b[0m\u001b[0mdtype\u001b[0m\u001b[1;33m,\u001b[0m \u001b[0mcopy\u001b[0m\u001b[1;33m=\u001b[0m\u001b[1;32mTrue\u001b[0m\u001b[1;33m)\u001b[0m\u001b[1;33m\u001b[0m\u001b[1;33m\u001b[0m\u001b[0m\n\u001b[0m\u001b[0;32m    898\u001b[0m \u001b[1;33m\u001b[0m\u001b[0m\n\u001b[0;32m    899\u001b[0m     \u001b[1;32mreturn\u001b[0m \u001b[0marr\u001b[0m\u001b[1;33m.\u001b[0m\u001b[0mview\u001b[0m\u001b[1;33m(\u001b[0m\u001b[0mdtype\u001b[0m\u001b[1;33m)\u001b[0m\u001b[1;33m\u001b[0m\u001b[1;33m\u001b[0m\u001b[0m\n",
      "\u001b[1;31mValueError\u001b[0m: could not convert string to float: '< 0.3'"
     ]
    }
   ],
   "source": [
    "new_string = new_string.astype(float)"
   ]
  },
  {
   "cell_type": "code",
   "execution_count": null,
   "metadata": {},
   "outputs": [],
   "source": []
  },
  {
   "cell_type": "code",
   "execution_count": 167,
   "metadata": {
    "scrolled": false
   },
   "outputs": [
    {
     "ename": "TypeError",
     "evalue": "'int' object is not subscriptable",
     "output_type": "error",
     "traceback": [
      "\u001b[1;31m---------------------------------------------------------------------------\u001b[0m",
      "\u001b[1;31mTypeError\u001b[0m                                 Traceback (most recent call last)",
      "\u001b[1;32m<ipython-input-167-58503d970917>\u001b[0m in \u001b[0;36m<module>\u001b[1;34m\u001b[0m\n\u001b[0;32m      1\u001b[0m \u001b[0mle\u001b[0m \u001b[1;33m=\u001b[0m \u001b[0mpreprocessing\u001b[0m\u001b[1;33m.\u001b[0m\u001b[0mLabelEncoder\u001b[0m\u001b[1;33m(\u001b[0m\u001b[1;33m)\u001b[0m\u001b[1;33m\u001b[0m\u001b[1;33m\u001b[0m\u001b[0m\n\u001b[0;32m      2\u001b[0m \u001b[0mblacklist\u001b[0m \u001b[1;33m=\u001b[0m \u001b[1;33m[\u001b[0m\u001b[1;34m\"geronnen\"\u001b[0m\u001b[1;33m,\u001b[0m \u001b[1;34m\"Material fehlt\"\u001b[0m\u001b[1;33m,\u001b[0m \u001b[1;34m\"<0.01\"\u001b[0m\u001b[1;33m,\u001b[0m\u001b[1;34m\"entfõllt\"\u001b[0m\u001b[1;33m,\u001b[0m\u001b[1;34m\"Anforderung wurde vom Einsender storniert.\"\u001b[0m\u001b[1;33m,\u001b[0m\u001b[1;34m\"BB-Differenzierung nicht verwertbar\"\u001b[0m\u001b[1;33m,\u001b[0m \u001b[1;34m\"falsches Material\"\u001b[0m\u001b[1;33m,\u001b[0m\u001b[1;34m\"Bestimmung entfõllt\"\u001b[0m\u001b[1;33m,\u001b[0m \u001b[1;34m\"Verdacht auf Probenverwechslung durch den Einsender\"\u001b[0m\u001b[1;33m,\u001b[0m \u001b[1;34m\"!sKomm\"\u001b[0m\u001b[1;33m,\u001b[0m \u001b[1;34m\"Probe im Labor verungl\\xb3ckt\"\u001b[0m\u001b[1;33m]\u001b[0m\u001b[1;33m\u001b[0m\u001b[1;33m\u001b[0m\u001b[0m\n\u001b[1;32m----> 3\u001b[1;33m \u001b[0munique_patient\u001b[0m \u001b[1;33m=\u001b[0m \u001b[0munique_patient\u001b[0m\u001b[1;33m[\u001b[0m\u001b[1;33m~\u001b[0m\u001b[0munique_patient\u001b[0m\u001b[1;33m[\u001b[0m\u001b[1;34m\"n2value\"\u001b[0m\u001b[1;33m]\u001b[0m\u001b[1;33m.\u001b[0m\u001b[0misin\u001b[0m\u001b[1;33m(\u001b[0m\u001b[0mblacklist\u001b[0m\u001b[1;33m)\u001b[0m\u001b[1;33m]\u001b[0m\u001b[1;33m\u001b[0m\u001b[1;33m\u001b[0m\u001b[0m\n\u001b[0m",
      "\u001b[1;31mTypeError\u001b[0m: 'int' object is not subscriptable"
     ]
    }
   ],
   "source": [
    "le = preprocessing.LabelEncoder()\n",
    "blacklist = [\"geronnen\", \"Material fehlt\", \"<0.01\",\"entfõllt\",\"Anforderung wurde vom Einsender storniert.\",\"BB-Differenzierung nicht verwertbar\", \"falsches Material\",\"Bestimmung entfõllt\", \"Verdacht auf Probenverwechslung durch den Einsender\", \"!sKomm\", \"Probe im Labor verungl\\xb3ckt\"]\n",
    "unique_patient = unique_patient[~unique_patient[\"n2value\"].isin(blacklist)]"
   ]
  },
  {
   "cell_type": "code",
   "execution_count": 59,
   "metadata": {},
   "outputs": [],
   "source": [
    "dfn[\"n2value\"] = le.fit_transform(dfn['n2value'].astype(float))"
   ]
  },
  {
   "cell_type": "code",
   "execution_count": 60,
   "metadata": {},
   "outputs": [
    {
     "name": "stdout",
     "output_type": "stream",
     "text": [
      "<class 'pandas.core.frame.DataFrame'>\n",
      "Int64Index: 11187 entries, 1000 to 1182911\n",
      "Data columns (total 12 columns):\n",
      " #   Column           Non-Null Count  Dtype \n",
      "---  ------           --------------  ----- \n",
      " 0   ID               11187 non-null  int64 \n",
      " 1   doknr            11187 non-null  int64 \n",
      " 2   dokvr            11187 non-null  int64 \n",
      " 3   patnr            11187 non-null  int64 \n",
      " 4   falnr            11187 non-null  int64 \n",
      " 5   n2leistid        11187 non-null  object\n",
      " 6   n2value          11187 non-null  int64 \n",
      " 7   n2date           11187 non-null  object\n",
      " 8   n2time           11187 non-null  int64 \n",
      " 9   Protokollnamen   11187 non-null  object\n",
      " 10  Protokollnummer  11187 non-null  object\n",
      " 11  alter            11187 non-null  int64 \n",
      "dtypes: int64(8), object(4)\n",
      "memory usage: 1.1+ MB\n"
     ]
    }
   ],
   "source": [
    "dfn.info()"
   ]
  },
  {
   "cell_type": "code",
   "execution_count": 62,
   "metadata": {},
   "outputs": [
    {
     "data": {
      "text/plain": [
       "(38, (11238, 12))"
      ]
     },
     "execution_count": 62,
     "metadata": {},
     "output_type": "execute_result"
    }
   ],
   "source": [
    "a = set(data_df[\"n2leistid\"].values)\n",
    "dfn = data_df[data_df.n2leistid == 'LANEUTA']\n",
    "len(a), dfn.shape"
   ]
  },
  {
   "cell_type": "code",
   "execution_count": 86,
   "metadata": {
    "scrolled": true
   },
   "outputs": [
    {
     "data": {
      "text/html": [
       "<div>\n",
       "<style scoped>\n",
       "    .dataframe tbody tr th:only-of-type {\n",
       "        vertical-align: middle;\n",
       "    }\n",
       "\n",
       "    .dataframe tbody tr th {\n",
       "        vertical-align: top;\n",
       "    }\n",
       "\n",
       "    .dataframe thead th {\n",
       "        text-align: right;\n",
       "    }\n",
       "</style>\n",
       "<table border=\"1\" class=\"dataframe\">\n",
       "  <thead>\n",
       "    <tr style=\"text-align: right;\">\n",
       "      <th></th>\n",
       "      <th>ID</th>\n",
       "      <th>doknr</th>\n",
       "      <th>dokvr</th>\n",
       "      <th>patnr</th>\n",
       "      <th>falnr</th>\n",
       "      <th>n2leistid</th>\n",
       "      <th>n2value</th>\n",
       "      <th>n2date</th>\n",
       "      <th>n2time</th>\n",
       "      <th>Protokollnamen</th>\n",
       "      <th>Protokollnummer</th>\n",
       "      <th>alter</th>\n",
       "    </tr>\n",
       "  </thead>\n",
       "  <tbody>\n",
       "    <tr>\n",
       "      <th>1000</th>\n",
       "      <td>1001</td>\n",
       "      <td>10020573412</td>\n",
       "      <td>0</td>\n",
       "      <td>5000737</td>\n",
       "      <td>75501997</td>\n",
       "      <td>LANEUTA</td>\n",
       "      <td>421</td>\n",
       "      <td>20180912</td>\n",
       "      <td>130141</td>\n",
       "      <td>Carboplatin-Gemcitabine</td>\n",
       "      <td>0019-KLStg</td>\n",
       "      <td>83</td>\n",
       "    </tr>\n",
       "    <tr>\n",
       "      <th>1001</th>\n",
       "      <td>1002</td>\n",
       "      <td>10020697569</td>\n",
       "      <td>0</td>\n",
       "      <td>5000737</td>\n",
       "      <td>75527878</td>\n",
       "      <td>LANEUTA</td>\n",
       "      <td>148</td>\n",
       "      <td>20181002</td>\n",
       "      <td>133028</td>\n",
       "      <td>Carboplatin-Gemcitabine Dialyse-Patienten</td>\n",
       "      <td>0467-KLStg</td>\n",
       "      <td>83</td>\n",
       "    </tr>\n",
       "    <tr>\n",
       "      <th>1002</th>\n",
       "      <td>1003</td>\n",
       "      <td>10020736404</td>\n",
       "      <td>0</td>\n",
       "      <td>5000737</td>\n",
       "      <td>75538093</td>\n",
       "      <td>LANEUTA</td>\n",
       "      <td>184</td>\n",
       "      <td>20181009</td>\n",
       "      <td>123536</td>\n",
       "      <td>Carboplatin-Gemcitabine Dialyse-Patienten</td>\n",
       "      <td>0467-KLStg</td>\n",
       "      <td>83</td>\n",
       "    </tr>\n",
       "    <tr>\n",
       "      <th>1003</th>\n",
       "      <td>1004</td>\n",
       "      <td>10021010824</td>\n",
       "      <td>0</td>\n",
       "      <td>5000737</td>\n",
       "      <td>75602249</td>\n",
       "      <td>LANEUTA</td>\n",
       "      <td>303</td>\n",
       "      <td>20181120</td>\n",
       "      <td>144318</td>\n",
       "      <td>Carboplatin-Gemcitabine Dialyse-Patienten</td>\n",
       "      <td>0467-KLStg</td>\n",
       "      <td>83</td>\n",
       "    </tr>\n",
       "    <tr>\n",
       "      <th>1004</th>\n",
       "      <td>1005</td>\n",
       "      <td>10022456961</td>\n",
       "      <td>0</td>\n",
       "      <td>5000737</td>\n",
       "      <td>75939435</td>\n",
       "      <td>LANEUTA</td>\n",
       "      <td>1442</td>\n",
       "      <td>20190706</td>\n",
       "      <td>91502</td>\n",
       "      <td>Pembrolizumab 200mg abs.</td>\n",
       "      <td>0099-KLStg</td>\n",
       "      <td>84</td>\n",
       "    </tr>\n",
       "    <tr>\n",
       "      <th>...</th>\n",
       "      <td>...</td>\n",
       "      <td>...</td>\n",
       "      <td>...</td>\n",
       "      <td>...</td>\n",
       "      <td>...</td>\n",
       "      <td>...</td>\n",
       "      <td>...</td>\n",
       "      <td>...</td>\n",
       "      <td>...</td>\n",
       "      <td>...</td>\n",
       "      <td>...</td>\n",
       "      <td>...</td>\n",
       "    </tr>\n",
       "    <tr>\n",
       "      <th>1182793</th>\n",
       "      <td>1182794</td>\n",
       "      <td>10021611177</td>\n",
       "      <td>0</td>\n",
       "      <td>101020252</td>\n",
       "      <td>75740308</td>\n",
       "      <td>LANEUTA</td>\n",
       "      <td>27</td>\n",
       "      <td>20190222</td>\n",
       "      <td>103303</td>\n",
       "      <td>PEB-KLStg</td>\n",
       "      <td>0064-KLStg</td>\n",
       "      <td>22</td>\n",
       "    </tr>\n",
       "    <tr>\n",
       "      <th>1182794</th>\n",
       "      <td>1182795</td>\n",
       "      <td>10022565220</td>\n",
       "      <td>0</td>\n",
       "      <td>101020252</td>\n",
       "      <td>75965023</td>\n",
       "      <td>LANEUTA</td>\n",
       "      <td>350</td>\n",
       "      <td>20190722</td>\n",
       "      <td>145559</td>\n",
       "      <td>PEB-KLStg</td>\n",
       "      <td>0064-KLStg</td>\n",
       "      <td>23</td>\n",
       "    </tr>\n",
       "    <tr>\n",
       "      <th>1182909</th>\n",
       "      <td>1182910</td>\n",
       "      <td>10025080741</td>\n",
       "      <td>1</td>\n",
       "      <td>405071089</td>\n",
       "      <td>76538041</td>\n",
       "      <td>LANEUTA</td>\n",
       "      <td>485</td>\n",
       "      <td>20200910</td>\n",
       "      <td>142221</td>\n",
       "      <td>Rixathon_KS</td>\n",
       "      <td>0192-KLStg</td>\n",
       "      <td>90</td>\n",
       "    </tr>\n",
       "    <tr>\n",
       "      <th>1182910</th>\n",
       "      <td>1182911</td>\n",
       "      <td>10025080741</td>\n",
       "      <td>3</td>\n",
       "      <td>405071089</td>\n",
       "      <td>76538041</td>\n",
       "      <td>LANEUTA</td>\n",
       "      <td>485</td>\n",
       "      <td>20200910</td>\n",
       "      <td>142221</td>\n",
       "      <td>Rixathon_KS</td>\n",
       "      <td>0192-KLStg</td>\n",
       "      <td>90</td>\n",
       "    </tr>\n",
       "    <tr>\n",
       "      <th>1182911</th>\n",
       "      <td>1182912</td>\n",
       "      <td>10025080741</td>\n",
       "      <td>2</td>\n",
       "      <td>405071089</td>\n",
       "      <td>76538041</td>\n",
       "      <td>LANEUTA</td>\n",
       "      <td>485</td>\n",
       "      <td>20200910</td>\n",
       "      <td>142221</td>\n",
       "      <td>Rixathon_KS</td>\n",
       "      <td>0192-KLStg</td>\n",
       "      <td>90</td>\n",
       "    </tr>\n",
       "  </tbody>\n",
       "</table>\n",
       "<p>11187 rows × 12 columns</p>\n",
       "</div>"
      ],
      "text/plain": [
       "              ID        doknr  dokvr      patnr     falnr n2leistid  n2value  \\\n",
       "1000        1001  10020573412      0    5000737  75501997   LANEUTA      421   \n",
       "1001        1002  10020697569      0    5000737  75527878   LANEUTA      148   \n",
       "1002        1003  10020736404      0    5000737  75538093   LANEUTA      184   \n",
       "1003        1004  10021010824      0    5000737  75602249   LANEUTA      303   \n",
       "1004        1005  10022456961      0    5000737  75939435   LANEUTA     1442   \n",
       "...          ...          ...    ...        ...       ...       ...      ...   \n",
       "1182793  1182794  10021611177      0  101020252  75740308   LANEUTA       27   \n",
       "1182794  1182795  10022565220      0  101020252  75965023   LANEUTA      350   \n",
       "1182909  1182910  10025080741      1  405071089  76538041   LANEUTA      485   \n",
       "1182910  1182911  10025080741      3  405071089  76538041   LANEUTA      485   \n",
       "1182911  1182912  10025080741      2  405071089  76538041   LANEUTA      485   \n",
       "\n",
       "           n2date  n2time                             Protokollnamen  \\\n",
       "1000     20180912  130141                    Carboplatin-Gemcitabine   \n",
       "1001     20181002  133028  Carboplatin-Gemcitabine Dialyse-Patienten   \n",
       "1002     20181009  123536  Carboplatin-Gemcitabine Dialyse-Patienten   \n",
       "1003     20181120  144318  Carboplatin-Gemcitabine Dialyse-Patienten   \n",
       "1004     20190706   91502                   Pembrolizumab 200mg abs.   \n",
       "...           ...     ...                                        ...   \n",
       "1182793  20190222  103303                                  PEB-KLStg   \n",
       "1182794  20190722  145559                                  PEB-KLStg   \n",
       "1182909  20200910  142221                                Rixathon_KS   \n",
       "1182910  20200910  142221                                Rixathon_KS   \n",
       "1182911  20200910  142221                                Rixathon_KS   \n",
       "\n",
       "        Protokollnummer  alter  \n",
       "1000         0019-KLStg     83  \n",
       "1001         0467-KLStg     83  \n",
       "1002         0467-KLStg     83  \n",
       "1003         0467-KLStg     83  \n",
       "1004         0099-KLStg     84  \n",
       "...                 ...    ...  \n",
       "1182793      0064-KLStg     22  \n",
       "1182794      0064-KLStg     23  \n",
       "1182909      0192-KLStg     90  \n",
       "1182910      0192-KLStg     90  \n",
       "1182911      0192-KLStg     90  \n",
       "\n",
       "[11187 rows x 12 columns]"
      ]
     },
     "execution_count": 86,
     "metadata": {},
     "output_type": "execute_result"
    }
   ],
   "source": [
    "a = set(data_df[\"n2leistid\"].values)\n",
    "dfn = data_df[data_df.n2leistid == 'LANEUTA']\n",
    "len(a), dfn.shape\n",
    "le = preprocessing.LabelEncoder()\n",
    "blacklist = [\"geronnen\", \"Material fehlt\", \"<0.01\",\"entfõllt\",\"Anforderung wurde vom Einsender storniert.\",\"BB-Differenzierung nicht verwertbar\", \"falsches Material\",\"Bestimmung entfõllt\", \"Verdacht auf Probenverwechslung durch den Einsender\", \"!sKomm\", \"Probe im Labor verungl\\xb3ckt\"]\n",
    "dfn = dfn[~dfn[\"n2value\"].isin(blacklist)]\n",
    "dfn[\"n2value\"] = le.fit_transform(dfn['n2value'].astype(float))\n",
    "nicht_gesund = dfn[(dfn[\"n2value\"] < 7.2 ) | (dfn[\"n2value\"] > 1.7)]\n",
    "#print(dfn.shape)\n",
    "nicht_gesund"
   ]
  },
  {
   "cell_type": "code",
   "execution_count": 83,
   "metadata": {},
   "outputs": [
    {
     "data": {
      "text/html": [
       "<div>\n",
       "<style scoped>\n",
       "    .dataframe tbody tr th:only-of-type {\n",
       "        vertical-align: middle;\n",
       "    }\n",
       "\n",
       "    .dataframe tbody tr th {\n",
       "        vertical-align: top;\n",
       "    }\n",
       "\n",
       "    .dataframe thead th {\n",
       "        text-align: right;\n",
       "    }\n",
       "</style>\n",
       "<table border=\"1\" class=\"dataframe\">\n",
       "  <thead>\n",
       "    <tr style=\"text-align: right;\">\n",
       "      <th></th>\n",
       "      <th>ID</th>\n",
       "      <th>doknr</th>\n",
       "      <th>dokvr</th>\n",
       "      <th>patnr</th>\n",
       "      <th>falnr</th>\n",
       "      <th>n2leistid</th>\n",
       "      <th>n2value</th>\n",
       "      <th>n2date</th>\n",
       "      <th>n2time</th>\n",
       "      <th>Protokollnamen</th>\n",
       "      <th>Protokollnummer</th>\n",
       "      <th>alter</th>\n",
       "    </tr>\n",
       "  </thead>\n",
       "  <tbody>\n",
       "    <tr>\n",
       "      <th>1000</th>\n",
       "      <td>1001</td>\n",
       "      <td>10020573412</td>\n",
       "      <td>0</td>\n",
       "      <td>5000737</td>\n",
       "      <td>75501997</td>\n",
       "      <td>LANEUTA</td>\n",
       "      <td>421</td>\n",
       "      <td>20180912</td>\n",
       "      <td>130141</td>\n",
       "      <td>Carboplatin-Gemcitabine</td>\n",
       "      <td>0019-KLStg</td>\n",
       "      <td>83</td>\n",
       "    </tr>\n",
       "    <tr>\n",
       "      <th>1001</th>\n",
       "      <td>1002</td>\n",
       "      <td>10020697569</td>\n",
       "      <td>0</td>\n",
       "      <td>5000737</td>\n",
       "      <td>75527878</td>\n",
       "      <td>LANEUTA</td>\n",
       "      <td>148</td>\n",
       "      <td>20181002</td>\n",
       "      <td>133028</td>\n",
       "      <td>Carboplatin-Gemcitabine Dialyse-Patienten</td>\n",
       "      <td>0467-KLStg</td>\n",
       "      <td>83</td>\n",
       "    </tr>\n",
       "    <tr>\n",
       "      <th>1002</th>\n",
       "      <td>1003</td>\n",
       "      <td>10020736404</td>\n",
       "      <td>0</td>\n",
       "      <td>5000737</td>\n",
       "      <td>75538093</td>\n",
       "      <td>LANEUTA</td>\n",
       "      <td>184</td>\n",
       "      <td>20181009</td>\n",
       "      <td>123536</td>\n",
       "      <td>Carboplatin-Gemcitabine Dialyse-Patienten</td>\n",
       "      <td>0467-KLStg</td>\n",
       "      <td>83</td>\n",
       "    </tr>\n",
       "    <tr>\n",
       "      <th>1003</th>\n",
       "      <td>1004</td>\n",
       "      <td>10021010824</td>\n",
       "      <td>0</td>\n",
       "      <td>5000737</td>\n",
       "      <td>75602249</td>\n",
       "      <td>LANEUTA</td>\n",
       "      <td>303</td>\n",
       "      <td>20181120</td>\n",
       "      <td>144318</td>\n",
       "      <td>Carboplatin-Gemcitabine Dialyse-Patienten</td>\n",
       "      <td>0467-KLStg</td>\n",
       "      <td>83</td>\n",
       "    </tr>\n",
       "    <tr>\n",
       "      <th>1004</th>\n",
       "      <td>1005</td>\n",
       "      <td>10022456961</td>\n",
       "      <td>0</td>\n",
       "      <td>5000737</td>\n",
       "      <td>75939435</td>\n",
       "      <td>LANEUTA</td>\n",
       "      <td>1442</td>\n",
       "      <td>20190706</td>\n",
       "      <td>91502</td>\n",
       "      <td>Pembrolizumab 200mg abs.</td>\n",
       "      <td>0099-KLStg</td>\n",
       "      <td>84</td>\n",
       "    </tr>\n",
       "    <tr>\n",
       "      <th>...</th>\n",
       "      <td>...</td>\n",
       "      <td>...</td>\n",
       "      <td>...</td>\n",
       "      <td>...</td>\n",
       "      <td>...</td>\n",
       "      <td>...</td>\n",
       "      <td>...</td>\n",
       "      <td>...</td>\n",
       "      <td>...</td>\n",
       "      <td>...</td>\n",
       "      <td>...</td>\n",
       "      <td>...</td>\n",
       "    </tr>\n",
       "    <tr>\n",
       "      <th>1182793</th>\n",
       "      <td>1182794</td>\n",
       "      <td>10021611177</td>\n",
       "      <td>0</td>\n",
       "      <td>101020252</td>\n",
       "      <td>75740308</td>\n",
       "      <td>LANEUTA</td>\n",
       "      <td>27</td>\n",
       "      <td>20190222</td>\n",
       "      <td>103303</td>\n",
       "      <td>PEB-KLStg</td>\n",
       "      <td>0064-KLStg</td>\n",
       "      <td>22</td>\n",
       "    </tr>\n",
       "    <tr>\n",
       "      <th>1182794</th>\n",
       "      <td>1182795</td>\n",
       "      <td>10022565220</td>\n",
       "      <td>0</td>\n",
       "      <td>101020252</td>\n",
       "      <td>75965023</td>\n",
       "      <td>LANEUTA</td>\n",
       "      <td>350</td>\n",
       "      <td>20190722</td>\n",
       "      <td>145559</td>\n",
       "      <td>PEB-KLStg</td>\n",
       "      <td>0064-KLStg</td>\n",
       "      <td>23</td>\n",
       "    </tr>\n",
       "    <tr>\n",
       "      <th>1182909</th>\n",
       "      <td>1182910</td>\n",
       "      <td>10025080741</td>\n",
       "      <td>1</td>\n",
       "      <td>405071089</td>\n",
       "      <td>76538041</td>\n",
       "      <td>LANEUTA</td>\n",
       "      <td>485</td>\n",
       "      <td>20200910</td>\n",
       "      <td>142221</td>\n",
       "      <td>Rixathon_KS</td>\n",
       "      <td>0192-KLStg</td>\n",
       "      <td>90</td>\n",
       "    </tr>\n",
       "    <tr>\n",
       "      <th>1182910</th>\n",
       "      <td>1182911</td>\n",
       "      <td>10025080741</td>\n",
       "      <td>3</td>\n",
       "      <td>405071089</td>\n",
       "      <td>76538041</td>\n",
       "      <td>LANEUTA</td>\n",
       "      <td>485</td>\n",
       "      <td>20200910</td>\n",
       "      <td>142221</td>\n",
       "      <td>Rixathon_KS</td>\n",
       "      <td>0192-KLStg</td>\n",
       "      <td>90</td>\n",
       "    </tr>\n",
       "    <tr>\n",
       "      <th>1182911</th>\n",
       "      <td>1182912</td>\n",
       "      <td>10025080741</td>\n",
       "      <td>2</td>\n",
       "      <td>405071089</td>\n",
       "      <td>76538041</td>\n",
       "      <td>LANEUTA</td>\n",
       "      <td>485</td>\n",
       "      <td>20200910</td>\n",
       "      <td>142221</td>\n",
       "      <td>Rixathon_KS</td>\n",
       "      <td>0192-KLStg</td>\n",
       "      <td>90</td>\n",
       "    </tr>\n",
       "  </tbody>\n",
       "</table>\n",
       "<p>10908 rows × 12 columns</p>\n",
       "</div>"
      ],
      "text/plain": [
       "              ID        doknr  dokvr      patnr     falnr n2leistid  n2value  \\\n",
       "1000        1001  10020573412      0    5000737  75501997   LANEUTA      421   \n",
       "1001        1002  10020697569      0    5000737  75527878   LANEUTA      148   \n",
       "1002        1003  10020736404      0    5000737  75538093   LANEUTA      184   \n",
       "1003        1004  10021010824      0    5000737  75602249   LANEUTA      303   \n",
       "1004        1005  10022456961      0    5000737  75939435   LANEUTA     1442   \n",
       "...          ...          ...    ...        ...       ...       ...      ...   \n",
       "1182793  1182794  10021611177      0  101020252  75740308   LANEUTA       27   \n",
       "1182794  1182795  10022565220      0  101020252  75965023   LANEUTA      350   \n",
       "1182909  1182910  10025080741      1  405071089  76538041   LANEUTA      485   \n",
       "1182910  1182911  10025080741      3  405071089  76538041   LANEUTA      485   \n",
       "1182911  1182912  10025080741      2  405071089  76538041   LANEUTA      485   \n",
       "\n",
       "           n2date  n2time                             Protokollnamen  \\\n",
       "1000     20180912  130141                    Carboplatin-Gemcitabine   \n",
       "1001     20181002  133028  Carboplatin-Gemcitabine Dialyse-Patienten   \n",
       "1002     20181009  123536  Carboplatin-Gemcitabine Dialyse-Patienten   \n",
       "1003     20181120  144318  Carboplatin-Gemcitabine Dialyse-Patienten   \n",
       "1004     20190706   91502                   Pembrolizumab 200mg abs.   \n",
       "...           ...     ...                                        ...   \n",
       "1182793  20190222  103303                                  PEB-KLStg   \n",
       "1182794  20190722  145559                                  PEB-KLStg   \n",
       "1182909  20200910  142221                                Rixathon_KS   \n",
       "1182910  20200910  142221                                Rixathon_KS   \n",
       "1182911  20200910  142221                                Rixathon_KS   \n",
       "\n",
       "        Protokollnummer  alter  \n",
       "1000         0019-KLStg     83  \n",
       "1001         0467-KLStg     83  \n",
       "1002         0467-KLStg     83  \n",
       "1003         0467-KLStg     83  \n",
       "1004         0099-KLStg     84  \n",
       "...                 ...    ...  \n",
       "1182793      0064-KLStg     22  \n",
       "1182794      0064-KLStg     23  \n",
       "1182909      0192-KLStg     90  \n",
       "1182910      0192-KLStg     90  \n",
       "1182911      0192-KLStg     90  \n",
       "\n",
       "[10908 rows x 12 columns]"
      ]
     },
     "execution_count": 83,
     "metadata": {},
     "output_type": "execute_result"
    }
   ],
   "source": [
    "a = set(data_df[\"n2leistid\"].values)\n",
    "dfn = data_df[data_df.n2leistid == 'LANEUTA']\n",
    "len(a), dfn.shape\n",
    "le = preprocessing.LabelEncoder()\n",
    "blacklist = [\"geronnen\", \"Material fehlt\", \"<0.01\",\"entfõllt\",\"Anforderung wurde vom Einsender storniert.\",\"BB-Differenzierung nicht verwertbar\", \"falsches Material\",\"Bestimmung entfõllt\", \"Verdacht auf Probenverwechslung durch den Einsender\", \"!sKomm\", \"Probe im Labor verungl\\xb3ckt\"]\n",
    "dfn = dfn[~dfn[\"n2value\"].isin(blacklist)]\n",
    "dfn[\"n2value\"] = le.fit_transform(dfn['n2value'].astype(float))\n",
    "nicht_gesund = dfn[(dfn[\"n2value\"] > 7.2 ) | (dfn[\"n2value\"] < 1.7)]\n",
    "#print(dfn.shape)\n",
    "nicht_gesund"
   ]
  },
  {
   "cell_type": "code",
   "execution_count": 85,
   "metadata": {},
   "outputs": [
    {
     "data": {
      "text/plain": [
       "60238863    0.009118\n",
       "6901771     0.007598\n",
       "6136831     0.006794\n",
       "60133403    0.005363\n",
       "6949635     0.005274\n",
       "              ...   \n",
       "60227606    0.000089\n",
       "60079045    0.000089\n",
       "6079466     0.000089\n",
       "60010657    0.000089\n",
       "60397585    0.000089\n",
       "Name: patnr, Length: 1769, dtype: float64"
      ]
     },
     "execution_count": 85,
     "metadata": {},
     "output_type": "execute_result"
    }
   ],
   "source": [
    "Anzahl_Patient = dfn[\"patnr\"].value_counts(normalize=True)\n",
    "Anzahl_Patient"
   ]
  },
  {
   "cell_type": "code",
   "execution_count": 72,
   "metadata": {},
   "outputs": [],
   "source": [
    "#nicht_gesund = data_df[(data_df.n2value < 1.5) & (data_df.n2value > 7.2)]"
   ]
  },
  {
   "cell_type": "code",
   "execution_count": null,
   "metadata": {},
   "outputs": [],
   "source": []
  },
  {
   "cell_type": "code",
   "execution_count": null,
   "metadata": {},
   "outputs": [],
   "source": [
    "#df[cat] = le.fit_transform(df[cat].astype(str))"
   ]
  },
  {
   "cell_type": "code",
   "execution_count": 22,
   "metadata": {},
   "outputs": [
    {
     "data": {
      "text/html": [
       "<div>\n",
       "<style scoped>\n",
       "    .dataframe tbody tr th:only-of-type {\n",
       "        vertical-align: middle;\n",
       "    }\n",
       "\n",
       "    .dataframe tbody tr th {\n",
       "        vertical-align: top;\n",
       "    }\n",
       "\n",
       "    .dataframe thead th {\n",
       "        text-align: right;\n",
       "    }\n",
       "</style>\n",
       "<table border=\"1\" class=\"dataframe\">\n",
       "  <thead>\n",
       "    <tr style=\"text-align: right;\">\n",
       "      <th></th>\n",
       "      <th>ID</th>\n",
       "      <th>doknr</th>\n",
       "      <th>dokvr</th>\n",
       "      <th>patnr</th>\n",
       "      <th>falnr</th>\n",
       "      <th>n2leistid</th>\n",
       "      <th>n2value</th>\n",
       "      <th>n2date</th>\n",
       "      <th>n2time</th>\n",
       "      <th>Protokollnamen</th>\n",
       "      <th>Protokollnummer</th>\n",
       "      <th>alter</th>\n",
       "    </tr>\n",
       "  </thead>\n",
       "  <tbody>\n",
       "    <tr>\n",
       "      <th>1000</th>\n",
       "      <td>1001</td>\n",
       "      <td>10020573412</td>\n",
       "      <td>0</td>\n",
       "      <td>5000737</td>\n",
       "      <td>75501997</td>\n",
       "      <td>LANEUTA</td>\n",
       "      <td>4.21</td>\n",
       "      <td>20180912</td>\n",
       "      <td>130141</td>\n",
       "      <td>Carboplatin-Gemcitabine</td>\n",
       "      <td>0019-KLStg</td>\n",
       "      <td>83</td>\n",
       "    </tr>\n",
       "    <tr>\n",
       "      <th>1001</th>\n",
       "      <td>1002</td>\n",
       "      <td>10020697569</td>\n",
       "      <td>0</td>\n",
       "      <td>5000737</td>\n",
       "      <td>75527878</td>\n",
       "      <td>LANEUTA</td>\n",
       "      <td>1.48</td>\n",
       "      <td>20181002</td>\n",
       "      <td>133028</td>\n",
       "      <td>Carboplatin-Gemcitabine Dialyse-Patienten</td>\n",
       "      <td>0467-KLStg</td>\n",
       "      <td>83</td>\n",
       "    </tr>\n",
       "    <tr>\n",
       "      <th>1002</th>\n",
       "      <td>1003</td>\n",
       "      <td>10020736404</td>\n",
       "      <td>0</td>\n",
       "      <td>5000737</td>\n",
       "      <td>75538093</td>\n",
       "      <td>LANEUTA</td>\n",
       "      <td>1.84</td>\n",
       "      <td>20181009</td>\n",
       "      <td>123536</td>\n",
       "      <td>Carboplatin-Gemcitabine Dialyse-Patienten</td>\n",
       "      <td>0467-KLStg</td>\n",
       "      <td>83</td>\n",
       "    </tr>\n",
       "    <tr>\n",
       "      <th>1003</th>\n",
       "      <td>1004</td>\n",
       "      <td>10021010824</td>\n",
       "      <td>0</td>\n",
       "      <td>5000737</td>\n",
       "      <td>75602249</td>\n",
       "      <td>LANEUTA</td>\n",
       "      <td>3.03</td>\n",
       "      <td>20181120</td>\n",
       "      <td>144318</td>\n",
       "      <td>Carboplatin-Gemcitabine Dialyse-Patienten</td>\n",
       "      <td>0467-KLStg</td>\n",
       "      <td>83</td>\n",
       "    </tr>\n",
       "    <tr>\n",
       "      <th>1004</th>\n",
       "      <td>1005</td>\n",
       "      <td>10022456961</td>\n",
       "      <td>0</td>\n",
       "      <td>5000737</td>\n",
       "      <td>75939435</td>\n",
       "      <td>LANEUTA</td>\n",
       "      <td>23.76</td>\n",
       "      <td>20190706</td>\n",
       "      <td>91502</td>\n",
       "      <td>Pembrolizumab 200mg abs.</td>\n",
       "      <td>0099-KLStg</td>\n",
       "      <td>84</td>\n",
       "    </tr>\n",
       "  </tbody>\n",
       "</table>\n",
       "</div>"
      ],
      "text/plain": [
       "        ID        doknr  dokvr    patnr     falnr n2leistid n2value    n2date  \\\n",
       "1000  1001  10020573412      0  5000737  75501997   LANEUTA    4.21  20180912   \n",
       "1001  1002  10020697569      0  5000737  75527878   LANEUTA    1.48  20181002   \n",
       "1002  1003  10020736404      0  5000737  75538093   LANEUTA    1.84  20181009   \n",
       "1003  1004  10021010824      0  5000737  75602249   LANEUTA    3.03  20181120   \n",
       "1004  1005  10022456961      0  5000737  75939435   LANEUTA   23.76  20190706   \n",
       "\n",
       "      n2time                             Protokollnamen Protokollnummer  alter  \n",
       "1000  130141                    Carboplatin-Gemcitabine      0019-KLStg     83  \n",
       "1001  133028  Carboplatin-Gemcitabine Dialyse-Patienten      0467-KLStg     83  \n",
       "1002  123536  Carboplatin-Gemcitabine Dialyse-Patienten      0467-KLStg     83  \n",
       "1003  144318  Carboplatin-Gemcitabine Dialyse-Patienten      0467-KLStg     83  \n",
       "1004   91502                   Pembrolizumab 200mg abs.      0099-KLStg     84  "
      ]
     },
     "execution_count": 22,
     "metadata": {},
     "output_type": "execute_result"
    }
   ],
   "source": [
    "dfn.head()"
   ]
  },
  {
   "cell_type": "code",
   "execution_count": null,
   "metadata": {},
   "outputs": [],
   "source": []
  },
  {
   "cell_type": "code",
   "execution_count": null,
   "metadata": {},
   "outputs": [],
   "source": []
  },
  {
   "cell_type": "code",
   "execution_count": 23,
   "metadata": {},
   "outputs": [
    {
     "name": "stdout",
     "output_type": "stream",
     "text": [
      "                  ID         doknr         dokvr         patnr         falnr  \\\n",
      "count   1.183001e+06  1.183001e+06  1.183001e+06  1.183001e+06  1.183001e+06   \n",
      "unique           NaN           NaN           NaN           NaN           NaN   \n",
      "top              NaN           NaN           NaN           NaN           NaN   \n",
      "freq             NaN           NaN           NaN           NaN           NaN   \n",
      "mean    5.915010e+05  1.002291e+10  1.437860e-01  3.371201e+07  7.601708e+07   \n",
      "std     3.415031e+05  2.107243e+06  4.077225e-01  2.745283e+07  4.895845e+05   \n",
      "min     1.000000e+00  1.001898e+10  0.000000e+00  5.000737e+06  7.088192e+07   \n",
      "25%     2.957510e+05  1.002117e+10  0.000000e+00  6.303075e+06  7.562041e+07   \n",
      "50%     5.915010e+05  1.002297e+10  0.000000e+00  6.001891e+07  7.603712e+07   \n",
      "75%     8.872510e+05  1.002472e+10  0.000000e+00  6.024724e+07  7.643427e+07   \n",
      "max     1.183001e+06  1.002651e+10  6.000000e+00  4.050711e+08  7.686924e+07   \n",
      "\n",
      "       n2leistid  n2value      n2date        n2time  \\\n",
      "count    1183001  1183001   1183001.0  1.183001e+06   \n",
      "unique        38     7535      2329.0           NaN   \n",
      "top         LAHB      0.7  20200107.0           NaN   \n",
      "freq       88433    15811      2172.0           NaN   \n",
      "mean         NaN      NaN         NaN  1.085134e+05   \n",
      "std          NaN      NaN         NaN  3.377359e+04   \n",
      "min          NaN      NaN         NaN  0.000000e+00   \n",
      "25%          NaN      NaN         NaN  9.131100e+04   \n",
      "50%          NaN      NaN         NaN  1.025490e+05   \n",
      "75%          NaN      NaN         NaN  1.218560e+05   \n",
      "max          NaN      NaN         NaN  2.020042e+07   \n",
      "\n",
      "                                           Protokollnamen Protokollnummer  \\\n",
      "count                                             1183001         1183001   \n",
      "unique                                                503             461   \n",
      "top     RCTx Cisplatin 40 w├Â _Al-Sarraf mod_Nasophary...      0117-KLStg   \n",
      "freq                                                57801           57801   \n",
      "mean                                                  NaN             NaN   \n",
      "std                                                   NaN             NaN   \n",
      "min                                                   NaN             NaN   \n",
      "25%                                                   NaN             NaN   \n",
      "50%                                                   NaN             NaN   \n",
      "75%                                                   NaN             NaN   \n",
      "max                                                   NaN             NaN   \n",
      "\n",
      "               alter  \n",
      "count   1.183001e+06  \n",
      "unique           NaN  \n",
      "top              NaN  \n",
      "freq             NaN  \n",
      "mean    7.891187e+01  \n",
      "std     1.791081e+04  \n",
      "min     1.800000e+01  \n",
      "25%     5.400000e+01  \n",
      "50%     6.500000e+01  \n",
      "75%     7.400000e+01  \n",
      "max     1.948090e+07  \n"
     ]
    }
   ],
   "source": [
    "print(data_df.describe(include='all'))"
   ]
  },
  {
   "cell_type": "code",
   "execution_count": 24,
   "metadata": {},
   "outputs": [
    {
     "name": "stdout",
     "output_type": "stream",
     "text": [
      "1000        4.21\n",
      "1001        1.48\n",
      "1002        1.84\n",
      "1003        3.03\n",
      "1004       23.76\n",
      "           ...  \n",
      "1182793     0.27\n",
      "1182794     3.50\n",
      "1182909     4.85\n",
      "1182910     4.85\n",
      "1182911     4.85\n",
      "Name: n2value, Length: 11238, dtype: object\n"
     ]
    }
   ],
   "source": [
    "print(dfn['n2value'])"
   ]
  },
  {
   "cell_type": "code",
   "execution_count": 25,
   "metadata": {},
   "outputs": [
    {
     "data": {
      "text/plain": [
       "83"
      ]
     },
     "execution_count": 25,
     "metadata": {},
     "output_type": "execute_result"
    }
   ],
   "source": [
    "data_df.alter[0]"
   ]
  },
  {
   "cell_type": "code",
   "execution_count": 26,
   "metadata": {},
   "outputs": [
    {
     "data": {
      "text/plain": [
       "numpy.int64"
      ]
     },
     "execution_count": 26,
     "metadata": {},
     "output_type": "execute_result"
    }
   ],
   "source": [
    "type(data_df.alter[0])"
   ]
  },
  {
   "cell_type": "code",
   "execution_count": null,
   "metadata": {},
   "outputs": [],
   "source": []
  }
 ],
 "metadata": {
  "kernelspec": {
   "display_name": "Python 3",
   "language": "python",
   "name": "python3"
  },
  "language_info": {
   "codemirror_mode": {
    "name": "ipython",
    "version": 3
   },
   "file_extension": ".py",
   "mimetype": "text/x-python",
   "name": "python",
   "nbconvert_exporter": "python",
   "pygments_lexer": "ipython3",
   "version": "3.7.6"
  }
 },
 "nbformat": 4,
 "nbformat_minor": 4
}
